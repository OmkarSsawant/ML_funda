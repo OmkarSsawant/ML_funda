{
 "cells": [
  {
   "cell_type": "code",
   "execution_count": 1,
   "metadata": {},
   "outputs": [
    {
     "data": {
      "text/html": [
       "<div>\n",
       "<style scoped>\n",
       "    .dataframe tbody tr th:only-of-type {\n",
       "        vertical-align: middle;\n",
       "    }\n",
       "\n",
       "    .dataframe tbody tr th {\n",
       "        vertical-align: top;\n",
       "    }\n",
       "\n",
       "    .dataframe thead th {\n",
       "        text-align: right;\n",
       "    }\n",
       "</style>\n",
       "<table border=\"1\" class=\"dataframe\">\n",
       "  <thead>\n",
       "    <tr style=\"text-align: right;\">\n",
       "      <th></th>\n",
       "      <th>battery_power</th>\n",
       "      <th>blue</th>\n",
       "      <th>clock_speed</th>\n",
       "      <th>dual_sim</th>\n",
       "      <th>fc</th>\n",
       "      <th>four_g</th>\n",
       "      <th>int_memory</th>\n",
       "      <th>m_dep</th>\n",
       "      <th>mobile_wt</th>\n",
       "      <th>n_cores</th>\n",
       "      <th>...</th>\n",
       "      <th>px_height</th>\n",
       "      <th>px_width</th>\n",
       "      <th>ram</th>\n",
       "      <th>sc_h</th>\n",
       "      <th>sc_w</th>\n",
       "      <th>talk_time</th>\n",
       "      <th>three_g</th>\n",
       "      <th>touch_screen</th>\n",
       "      <th>wifi</th>\n",
       "      <th>price_range</th>\n",
       "    </tr>\n",
       "  </thead>\n",
       "  <tbody>\n",
       "    <tr>\n",
       "      <th>269</th>\n",
       "      <td>1281</td>\n",
       "      <td>1</td>\n",
       "      <td>2.3</td>\n",
       "      <td>1</td>\n",
       "      <td>0</td>\n",
       "      <td>0</td>\n",
       "      <td>28</td>\n",
       "      <td>0.3</td>\n",
       "      <td>148</td>\n",
       "      <td>1</td>\n",
       "      <td>...</td>\n",
       "      <td>1285</td>\n",
       "      <td>1617</td>\n",
       "      <td>1129</td>\n",
       "      <td>12</td>\n",
       "      <td>1</td>\n",
       "      <td>6</td>\n",
       "      <td>0</td>\n",
       "      <td>1</td>\n",
       "      <td>0</td>\n",
       "      <td>1</td>\n",
       "    </tr>\n",
       "    <tr>\n",
       "      <th>1499</th>\n",
       "      <td>1742</td>\n",
       "      <td>1</td>\n",
       "      <td>0.5</td>\n",
       "      <td>1</td>\n",
       "      <td>5</td>\n",
       "      <td>1</td>\n",
       "      <td>43</td>\n",
       "      <td>0.9</td>\n",
       "      <td>176</td>\n",
       "      <td>3</td>\n",
       "      <td>...</td>\n",
       "      <td>356</td>\n",
       "      <td>1407</td>\n",
       "      <td>1921</td>\n",
       "      <td>9</td>\n",
       "      <td>2</td>\n",
       "      <td>3</td>\n",
       "      <td>1</td>\n",
       "      <td>1</td>\n",
       "      <td>0</td>\n",
       "      <td>2</td>\n",
       "    </tr>\n",
       "    <tr>\n",
       "      <th>1216</th>\n",
       "      <td>1158</td>\n",
       "      <td>0</td>\n",
       "      <td>0.7</td>\n",
       "      <td>1</td>\n",
       "      <td>1</td>\n",
       "      <td>1</td>\n",
       "      <td>29</td>\n",
       "      <td>0.7</td>\n",
       "      <td>123</td>\n",
       "      <td>2</td>\n",
       "      <td>...</td>\n",
       "      <td>311</td>\n",
       "      <td>1796</td>\n",
       "      <td>1542</td>\n",
       "      <td>17</td>\n",
       "      <td>9</td>\n",
       "      <td>15</td>\n",
       "      <td>1</td>\n",
       "      <td>0</td>\n",
       "      <td>1</td>\n",
       "      <td>1</td>\n",
       "    </tr>\n",
       "    <tr>\n",
       "      <th>1378</th>\n",
       "      <td>826</td>\n",
       "      <td>0</td>\n",
       "      <td>0.5</td>\n",
       "      <td>1</td>\n",
       "      <td>0</td>\n",
       "      <td>1</td>\n",
       "      <td>57</td>\n",
       "      <td>0.5</td>\n",
       "      <td>135</td>\n",
       "      <td>2</td>\n",
       "      <td>...</td>\n",
       "      <td>354</td>\n",
       "      <td>530</td>\n",
       "      <td>323</td>\n",
       "      <td>17</td>\n",
       "      <td>3</td>\n",
       "      <td>7</td>\n",
       "      <td>1</td>\n",
       "      <td>0</td>\n",
       "      <td>1</td>\n",
       "      <td>0</td>\n",
       "    </tr>\n",
       "  </tbody>\n",
       "</table>\n",
       "<p>4 rows × 21 columns</p>\n",
       "</div>"
      ],
      "text/plain": [
       "      battery_power  blue  clock_speed  dual_sim  fc  four_g  int_memory  \\\n",
       "269            1281     1          2.3         1   0       0          28   \n",
       "1499           1742     1          0.5         1   5       1          43   \n",
       "1216           1158     0          0.7         1   1       1          29   \n",
       "1378            826     0          0.5         1   0       1          57   \n",
       "\n",
       "      m_dep  mobile_wt  n_cores  ...  px_height  px_width   ram  sc_h  sc_w  \\\n",
       "269     0.3        148        1  ...       1285      1617  1129    12     1   \n",
       "1499    0.9        176        3  ...        356      1407  1921     9     2   \n",
       "1216    0.7        123        2  ...        311      1796  1542    17     9   \n",
       "1378    0.5        135        2  ...        354       530   323    17     3   \n",
       "\n",
       "      talk_time  three_g  touch_screen  wifi  price_range  \n",
       "269           6        0             1     0            1  \n",
       "1499          3        1             1     0            2  \n",
       "1216         15        1             0     1            1  \n",
       "1378          7        1             0     1            0  \n",
       "\n",
       "[4 rows x 21 columns]"
      ]
     },
     "execution_count": 1,
     "metadata": {},
     "output_type": "execute_result"
    }
   ],
   "source": [
    "import pandas as pd\n",
    "df = pd.read_csv('./mobie_ds.csv')\n",
    "df.sample(4)"
   ]
  },
  {
   "cell_type": "code",
   "execution_count": 2,
   "metadata": {},
   "outputs": [
    {
     "name": "stdout",
     "output_type": "stream",
     "text": [
      "<class 'pandas.core.frame.DataFrame'>\n",
      "RangeIndex: 2000 entries, 0 to 1999\n",
      "Data columns (total 21 columns):\n",
      " #   Column         Non-Null Count  Dtype  \n",
      "---  ------         --------------  -----  \n",
      " 0   battery_power  2000 non-null   int64  \n",
      " 1   blue           2000 non-null   int64  \n",
      " 2   clock_speed    2000 non-null   float64\n",
      " 3   dual_sim       2000 non-null   int64  \n",
      " 4   fc             2000 non-null   int64  \n",
      " 5   four_g         2000 non-null   int64  \n",
      " 6   int_memory     2000 non-null   int64  \n",
      " 7   m_dep          2000 non-null   float64\n",
      " 8   mobile_wt      2000 non-null   int64  \n",
      " 9   n_cores        2000 non-null   int64  \n",
      " 10  pc             2000 non-null   int64  \n",
      " 11  px_height      2000 non-null   int64  \n",
      " 12  px_width       2000 non-null   int64  \n",
      " 13  ram            2000 non-null   int64  \n",
      " 14  sc_h           2000 non-null   int64  \n",
      " 15  sc_w           2000 non-null   int64  \n",
      " 16  talk_time      2000 non-null   int64  \n",
      " 17  three_g        2000 non-null   int64  \n",
      " 18  touch_screen   2000 non-null   int64  \n",
      " 19  wifi           2000 non-null   int64  \n",
      " 20  price_range    2000 non-null   int64  \n",
      "dtypes: float64(2), int64(19)\n",
      "memory usage: 328.2 KB\n"
     ]
    }
   ],
   "source": [
    "df.info()"
   ]
  },
  {
   "cell_type": "code",
   "execution_count": 8,
   "metadata": {},
   "outputs": [],
   "source": [
    "X = df.drop(['price_range'],axis=1)\n",
    "y = df['price_range']"
   ]
  },
  {
   "cell_type": "markdown",
   "metadata": {},
   "source": [
    "#### Information gain"
   ]
  },
  {
   "cell_type": "code",
   "execution_count": 9,
   "metadata": {},
   "outputs": [],
   "source": [
    "from sklearn.feature_selection import mutual_info_regression"
   ]
  },
  {
   "cell_type": "code",
   "execution_count": 10,
   "metadata": {},
   "outputs": [],
   "source": [
    "ig = mutual_info_regression(X,y)"
   ]
  },
  {
   "cell_type": "code",
   "execution_count": 15,
   "metadata": {},
   "outputs": [
    {
     "data": {
      "text/plain": [
       "{'battery_power': 0.03187427729411407,\n",
       " 'blue': 0.0,\n",
       " 'clock_speed': 0.0,\n",
       " 'dual_sim': 0.022605193672448287,\n",
       " 'fc': 0.0,\n",
       " 'four_g': 0.0,\n",
       " 'int_memory': 0.03653347458034695,\n",
       " 'm_dep': 0.0,\n",
       " 'mobile_wt': 0.006266588175543042,\n",
       " 'n_cores': 0.013848523060432605,\n",
       " 'pc': 0.00258387418278172,\n",
       " 'px_height': 0.029018664144286,\n",
       " 'px_width': 0.03148529254705501,\n",
       " 'ram': 0.8475818520658143,\n",
       " 'sc_h': 0.013336097393178648,\n",
       " 'sc_w': 0.016016367623884697,\n",
       " 'talk_time': 0.012407518091912095,\n",
       " 'three_g': 0.01813140827401094,\n",
       " 'touch_screen': 0.025542197807931544,\n",
       " 'wifi': 0.0}"
      ]
     },
     "execution_count": 15,
     "metadata": {},
     "output_type": "execute_result"
    }
   ],
   "source": [
    "feature_scored={}\n",
    "features =  df.columns[:-1]\n",
    "for i in range(len(features)):\n",
    "    feature_scored[features[i]] = ig[i]\n",
    "feature_scored"
   ]
  },
  {
   "cell_type": "code",
   "execution_count": 20,
   "metadata": {},
   "outputs": [],
   "source": [
    "import seaborn as sb"
   ]
  },
  {
   "cell_type": "code",
   "execution_count": 39,
   "metadata": {},
   "outputs": [
    {
     "data": {
      "text/plain": [
       "<AxesSubplot:xlabel='info. gain', ylabel='features'>"
      ]
     },
     "execution_count": 39,
     "metadata": {},
     "output_type": "execute_result"
    },
    {
     "data": {
      "image/png": "[encoded data removed]",
      "text/plain": [
       "<Figure size 432x288 with 1 Axes>"
      ]
     },
     "metadata": {
      "needs_background": "light"
     },
     "output_type": "display_data"
    }
   ],
   "source": [
    "sb.barplot(orient='h',data=pd.DataFrame({'features':feature_scored.keys(),'info. gain':feature_scored.values()}).sort_values(\"info. gain\",),y='features',x='info. gain')"
   ]
  },
  {
   "cell_type": "code",
   "execution_count": 38,
   "metadata": {},
   "outputs": [
    {
     "data": {
      "text/plain": [
       "[('ram', 0.8475818520658143),\n",
       " ('int_memory', 0.03653347458034695),\n",
       " ('battery_power', 0.03187427729411407),\n",
       " ('px_width', 0.03148529254705501),\n",
       " ('px_height', 0.029018664144286),\n",
       " ('touch_screen', 0.025542197807931544),\n",
       " ('dual_sim', 0.022605193672448287),\n",
       " ('three_g', 0.01813140827401094),\n",
       " ('sc_w', 0.016016367623884697),\n",
       " ('n_cores', 0.013848523060432605),\n",
       " ('sc_h', 0.013336097393178648),\n",
       " ('talk_time', 0.012407518091912095),\n",
       " ('mobile_wt', 0.006266588175543042),\n",
       " ('pc', 0.00258387418278172),\n",
       " ('blue', 0.0),\n",
       " ('clock_speed', 0.0),\n",
       " ('fc', 0.0),\n",
       " ('four_g', 0.0),\n",
       " ('m_dep', 0.0),\n",
       " ('wifi', 0.0)]"
      ]
     },
     "execution_count": 38,
     "metadata": {},
     "output_type": "execute_result"
    }
   ],
   "source": [
    "top_10_f = sorted(feature_scored.items(),key= lambda x : x[1],reverse=True)\n",
    "top_10_f"
   ]
  }
 ],
 "metadata": {
  "kernelspec": {
   "display_name": "Python 3",
   "language": "python",
   "name": "python3"
  },
  "language_info": {
   "codemirror_mode": {
    "name": "ipython",
    "version": 3
   },
   "file_extension": ".py",
   "mimetype": "text/x-python",
   "name": "python",
   "nbconvert_exporter": "python",
   "pygments_lexer": "ipython3",
   "version": "3.10.1"
  }
 },
 "nbformat": 4,
 "nbformat_minor": 2
}
